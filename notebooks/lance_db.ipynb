{
 "cells": [
  {
   "cell_type": "code",
   "execution_count": null,
   "metadata": {},
   "outputs": [],
   "source": [
    "!pip install lancedb"
   ]
  },
  {
   "cell_type": "code",
   "execution_count": 1,
   "metadata": {},
   "outputs": [
    {
     "name": "stderr",
     "output_type": "stream",
     "text": [
      "c:\\Users\\chyav\\Documents\\Sakaar\\lumona_car\\.venv\\Lib\\site-packages\\tqdm\\auto.py:21: TqdmWarning: IProgress not found. Please update jupyter and ipywidgets. See https://ipywidgets.readthedocs.io/en/stable/user_install.html\n",
      "  from .autonotebook import tqdm as notebook_tqdm\n"
     ]
    }
   ],
   "source": [
    "import lancedb\n",
    "import pandas as pd\n",
    "import pyarrow as pa\n",
    "\n",
    "uri = \"data/sample-lancedb\"\n",
    "\n",
    "db = lancedb.connect(uri)"
   ]
  },
  {
   "cell_type": "code",
   "execution_count": 2,
   "metadata": {},
   "outputs": [
    {
     "name": "stdout",
     "output_type": "stream",
     "text": [
      "Processing C:\\Users\\chyav\\Documents\\Sakaar\\lumona_car\\notebooks\\tiago_manual.pdf...\n",
      "[                                        ] (0/15[                                        ] (  1/15[                                        ] (  2/15[                                        ] (  3/153[=                                       ] (  4/153[=                                       ] (  5/153[=                                       ] (  6/1[=                                       ] (  7/15[==                                      ] (  8/15[==                                      ] (  9/15[==                                      ] ( 10/15[==                                      ] ( 11/153[===                                     ] ( 12/153[===                                     ] ( 13/153[===                                     ] ( 14/1[===                                     ] ( 15/15[====                                    ] ( 16/15[====                                    ] ( 17/15[====                                    ] ( 18/15[====                                    ] ( 19/153[=====                                   ] ( 20/153[=====                                   ] ( 21/1[=====                                   ] ( 22/15[======                                  ] ( 23/15[======                                  ] ( 24/15[======                                  ] ( 25/15[======                                  ] ( 26/153[=======                                 ] ( 27/1[=======                                 ] ( 28/1[=======                                 ] ( 29/153[=======                                 ] ( 30/15[========                                ] ( 31/15[========                                ] ( 32/15[========                                ] ( 33/15[========                                ] ( 34/153[=========                               ] ( 35/153[=========                               ] ( 36/1[=========                               ] ( 37/1[=========                               ] ( 38/15[==========                              ] ( 39/15[==========                              ] ( 40/15[==========                              ] ( 41/15[==========                              ] ( 42/153[===========                             ] ( 43/1[===========                             ] ( 44/1[===========                             ] ( 45/15[============                            ] ( 46/15[============                            ] ( 47/15[============                            ] ( 48/15[============                            ] ( 49/153[=============                           ] ( 50/1[=============                           ] ( 51/153[=============                           ] ( 52/153[=============                           ] ( 53/15[==============                          ] ( 54/15[==============                          ] ( 55/15[==============                          ] ( 56/15[==============                          ] ( 57/153[===============                         ] ( 58/153[===============                         ] ( 59/153[===============                         ] ( 60/153[===============                         ] ( 61/15[================                        ] ( 62/15[================                        ] ( 63/15[================                        ] ( 64/15[================                        ] ( 65/153[=================                       ] ( 66/1[=================                       ] ( 67/1[=================                       ] ( 68/15[==================                      ] ( 69/15[==================                      ] ( 70/15[==================                      ] ( 71/15[==================                      ] ( 72/153[===================                     ] ( 73/1[===================                     ] ( 74/153[===================                     ] ( 75/1[===================                     ] ( 76/15[====================                    ] ( 77/15[====================                    ] ( 78/15[====================                    ] ( 79/15[====================                    ] ( 80/153[=====================                   ] ( 81/1[=====================                   ] ( 82/153[=====================                   ] ( 83/153[=====================                   ] ( 84/15[======================                  ] ( 85/15[======================                  ] ( 86/15[======================                  ] ( 87/153[=======================                 ] ( 88/1[=======================                 ] ( 89/1[=======================                 ] ( 90/1[=======================                 ] ( 91/15[========================                ] ( 92/15[========================                ] ( 93/15[========================                ] ( 94/15[========================                ] ( 95/153[=========================               ] ( 96/153[=========================               ] ( 97/153[=========================               ] ( 98/153[=========================               ] ( 99/15[==========================              ] (100/15[==========================              ] (101/15[==========================              ] (102/15[==========================              ] (103/153[===========================             ] (104/153[===========================             ] (105/153[===========================             ] (106/153[===========================             ] (107/15[============================            ] (108/15[============================            ] (109/15[============================            ] (110/153[=============================           ] (111/1[=============================           ] (112/1[=============================           ] (113/1[=============================           ] (114/15[==============================          ] (115/15[==============================          ] (116/15[==============================          ] (117/15[==============================          ] (118/153[===============================         ] (119/1[===============================         ] (120/1[===============================         ] (121/1[===============================         ] (122/15[================================        ] (123/15[================================        ] (124/15[================================        ] (125/15[================================        ] (126/153[=================================       ] (127/153[=================================       ] (128/153[=================================       ] (129/153[=================================       ] (130/15[==================================      ] (131/15[==================================      ] (132/15[==================================      ] (133/153[===================================     ] (134/1[===================================     ] (135/1[===================================     ] (136/153[===================================     ] (137/15[====================================    ] (138/15[====================================    ] (139/15[====================================    ] (140/15[====================================    ] (141/153[=====================================   ] (142/1[=====================================   ] (143/1[=====================================   ] (144/1[=====================================   ] (145/15[======================================  ] (146/15[======================================  ] (147/15[======================================  ] (148/15[======================================  ] (149/153[======================================= ] (150/1[======================================= ] (151/153[======================================= ] (152/15[========================================] (153/153]\n"
     ]
    }
   ],
   "source": [
    "import os\n",
    "os.chdir('..')\n",
    "\n",
    "from app.core.parsing.parser import parser\n",
    "\n",
    "documents = parser.parse_pdf_document(os.path.abspath(\"C:/Users/chyav/Documents/Sakaar/lumona_car/notebooks/tiago_manual.pdf\"))\n",
    "\n"
   ]
  },
  {
   "cell_type": "code",
   "execution_count": 6,
   "metadata": {},
   "outputs": [],
   "source": [
    "# Check if table exists, if not create it\n",
    "df = pd.DataFrame(documents)\n",
    "documents_in_dict = [item.model_dump() for item in documents]\n",
    "if \"cars_docs_data\" not in db.table_names():\n",
    "    # Create table\n",
    "    db.create_table(\"cars_docs_data\", data=documents_in_dict)\n",
    "else:\n",
    "    # Add data to existing table\n",
    "    table = db.open_table(\"cars_docs_data\")\n",
    "    table.add(df)\n"
   ]
  },
  {
   "cell_type": "code",
   "execution_count": 7,
   "metadata": {},
   "outputs": [
    {
     "name": "stderr",
     "output_type": "stream",
     "text": [
      "C:\\Users\\chyav\\AppData\\Local\\Temp\\ipykernel_23800\\2927884170.py:3: UnsupportedWarning: to_df is unsupported as of 0.4.0. Use to_pandas() instead\n",
      "  fetched_docs = rag_table.search().limit(10).to_df()\n"
     ]
    },
    {
     "data": {
      "text/html": [
       "<div>\n",
       "<style scoped>\n",
       "    .dataframe tbody tr th:only-of-type {\n",
       "        vertical-align: middle;\n",
       "    }\n",
       "\n",
       "    .dataframe tbody tr th {\n",
       "        vertical-align: top;\n",
       "    }\n",
       "\n",
       "    .dataframe thead th {\n",
       "        text-align: right;\n",
       "    }\n",
       "</style>\n",
       "<table border=\"1\" class=\"dataframe\">\n",
       "  <thead>\n",
       "    <tr style=\"text-align: right;\">\n",
       "      <th></th>\n",
       "      <th>id</th>\n",
       "      <th>text</th>\n",
       "      <th>metadata</th>\n",
       "      <th>parent_document_id</th>\n",
       "      <th>type</th>\n",
       "      <th>embedding</th>\n",
       "      <th>keywords</th>\n",
       "      <th>ref_in_parent</th>\n",
       "      <th>tag</th>\n",
       "      <th>previous_document_id</th>\n",
       "      <th>next_document_id</th>\n",
       "    </tr>\n",
       "  </thead>\n",
       "  <tbody>\n",
       "    <tr>\n",
       "      <th>0</th>\n",
       "      <td>7949783dcb314b838fcb409011d7165e</td>\n",
       "      <td>![](data:image/png;base64,iVBORw0KGgoAAAANSUhE...</td>\n",
       "      <td>{'headings': [], 'images': False, 'tables': Fa...</td>\n",
       "      <td>42f77327d9f14b50848025b4bc8bd4df</td>\n",
       "      <td>PAGE</td>\n",
       "      <td>None</td>\n",
       "      <td>None</td>\n",
       "      <td>1</td>\n",
       "      <td>OTHER</td>\n",
       "      <td>None</td>\n",
       "      <td>None</td>\n",
       "    </tr>\n",
       "    <tr>\n",
       "      <th>1</th>\n",
       "      <td>5ea1b169b5034e3c97de706e4d1e5785</td>\n",
       "      <td>\\n\\n![](data:image/png;base64,iVBORw0KGgoAAAAN...</td>\n",
       "      <td>{'headings': [], 'images': False, 'tables': Fa...</td>\n",
       "      <td>42f77327d9f14b50848025b4bc8bd4df</td>\n",
       "      <td>PAGE</td>\n",
       "      <td>None</td>\n",
       "      <td>None</td>\n",
       "      <td>2</td>\n",
       "      <td>OTHER</td>\n",
       "      <td>7949783dcb314b838fcb409011d7165e</td>\n",
       "      <td>None</td>\n",
       "    </tr>\n",
       "    <tr>\n",
       "      <th>2</th>\n",
       "      <td>76e27080698e46d0a6ee83b18bb2254e</td>\n",
       "      <td>\\n\\nIn our constant endeavour to provide assis...</td>\n",
       "      <td>{'headings': [], 'images': False, 'tables': Fa...</td>\n",
       "      <td>42f77327d9f14b50848025b4bc8bd4df</td>\n",
       "      <td>PAGE</td>\n",
       "      <td>None</td>\n",
       "      <td>None</td>\n",
       "      <td>3</td>\n",
       "      <td>OTHER</td>\n",
       "      <td>5ea1b169b5034e3c97de706e4d1e5785</td>\n",
       "      <td>None</td>\n",
       "    </tr>\n",
       "    <tr>\n",
       "      <th>3</th>\n",
       "      <td>6a84abdc3e3745519a5232d6d24d4886</td>\n",
       "      <td>\\n\\n### Dear Customer,\\n\\nWelcome to the TATA ...</td>\n",
       "      <td>{'headings': [], 'images': False, 'tables': Fa...</td>\n",
       "      <td>42f77327d9f14b50848025b4bc8bd4df</td>\n",
       "      <td>PAGE</td>\n",
       "      <td>None</td>\n",
       "      <td>None</td>\n",
       "      <td>4</td>\n",
       "      <td>OTHER</td>\n",
       "      <td>76e27080698e46d0a6ee83b18bb2254e</td>\n",
       "      <td>None</td>\n",
       "    </tr>\n",
       "    <tr>\n",
       "      <th>4</th>\n",
       "      <td>ad92cc51e8614359ae23c3b9c0caccbe</td>\n",
       "      <td>\\n\\n- Before driving, read this Owner’s manual...</td>\n",
       "      <td>{'headings': [], 'images': False, 'tables': Fa...</td>\n",
       "      <td>42f77327d9f14b50848025b4bc8bd4df</td>\n",
       "      <td>PAGE</td>\n",
       "      <td>None</td>\n",
       "      <td>None</td>\n",
       "      <td>5</td>\n",
       "      <td>OTHER</td>\n",
       "      <td>6a84abdc3e3745519a5232d6d24d4886</td>\n",
       "      <td>None</td>\n",
       "    </tr>\n",
       "  </tbody>\n",
       "</table>\n",
       "</div>"
      ],
      "text/plain": [
       "                                 id  \\\n",
       "0  7949783dcb314b838fcb409011d7165e   \n",
       "1  5ea1b169b5034e3c97de706e4d1e5785   \n",
       "2  76e27080698e46d0a6ee83b18bb2254e   \n",
       "3  6a84abdc3e3745519a5232d6d24d4886   \n",
       "4  ad92cc51e8614359ae23c3b9c0caccbe   \n",
       "\n",
       "                                                text  \\\n",
       "0  ![](data:image/png;base64,iVBORw0KGgoAAAANSUhE...   \n",
       "1  \\n\\n![](data:image/png;base64,iVBORw0KGgoAAAAN...   \n",
       "2  \\n\\nIn our constant endeavour to provide assis...   \n",
       "3  \\n\\n### Dear Customer,\\n\\nWelcome to the TATA ...   \n",
       "4  \\n\\n- Before driving, read this Owner’s manual...   \n",
       "\n",
       "                                            metadata  \\\n",
       "0  {'headings': [], 'images': False, 'tables': Fa...   \n",
       "1  {'headings': [], 'images': False, 'tables': Fa...   \n",
       "2  {'headings': [], 'images': False, 'tables': Fa...   \n",
       "3  {'headings': [], 'images': False, 'tables': Fa...   \n",
       "4  {'headings': [], 'images': False, 'tables': Fa...   \n",
       "\n",
       "                 parent_document_id  type embedding keywords  ref_in_parent  \\\n",
       "0  42f77327d9f14b50848025b4bc8bd4df  PAGE      None     None              1   \n",
       "1  42f77327d9f14b50848025b4bc8bd4df  PAGE      None     None              2   \n",
       "2  42f77327d9f14b50848025b4bc8bd4df  PAGE      None     None              3   \n",
       "3  42f77327d9f14b50848025b4bc8bd4df  PAGE      None     None              4   \n",
       "4  42f77327d9f14b50848025b4bc8bd4df  PAGE      None     None              5   \n",
       "\n",
       "     tag              previous_document_id next_document_id  \n",
       "0  OTHER                              None             None  \n",
       "1  OTHER  7949783dcb314b838fcb409011d7165e             None  \n",
       "2  OTHER  5ea1b169b5034e3c97de706e4d1e5785             None  \n",
       "3  OTHER  76e27080698e46d0a6ee83b18bb2254e             None  \n",
       "4  OTHER  6a84abdc3e3745519a5232d6d24d4886             None  "
      ]
     },
     "execution_count": 7,
     "metadata": {},
     "output_type": "execute_result"
    }
   ],
   "source": [
    "rag_table = db.open_table(\"cars_docs_data\")\n",
    "\n",
    "fetched_docs = rag_table.search().limit(10).to_df()\n",
    "\n",
    "fetched_docs.head()\n",
    "\n"
   ]
  }
 ],
 "metadata": {
  "kernelspec": {
   "display_name": ".venv",
   "language": "python",
   "name": "python3"
  },
  "language_info": {
   "codemirror_mode": {
    "name": "ipython",
    "version": 3
   },
   "file_extension": ".py",
   "mimetype": "text/x-python",
   "name": "python",
   "nbconvert_exporter": "python",
   "pygments_lexer": "ipython3",
   "version": "3.11.5"
  }
 },
 "nbformat": 4,
 "nbformat_minor": 2
}
